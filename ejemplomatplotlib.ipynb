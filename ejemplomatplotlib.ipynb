{
 "cells": [
  {
   "cell_type": "code",
   "execution_count": 1,
   "metadata": {},
   "outputs": [
    {
     "name": "stdout",
     "output_type": "stream",
     "text": [
      "Collecting matplotlib\n",
      "  Downloading matplotlib-3.7.2-cp311-cp311-win_amd64.whl (7.5 MB)\n",
      "                                              0.0/7.5 MB ? eta -:--:--\n",
      "                                              0.1/7.5 MB 4.3 MB/s eta 0:00:02\n",
      "     -                                        0.3/7.5 MB 3.8 MB/s eta 0:00:02\n",
      "     --                                       0.5/7.5 MB 3.8 MB/s eta 0:00:02\n",
      "     ---                                      0.7/7.5 MB 3.8 MB/s eta 0:00:02\n",
      "     ----                                     0.8/7.5 MB 3.7 MB/s eta 0:00:02\n",
      "     -----                                    1.0/7.5 MB 3.7 MB/s eta 0:00:02\n",
      "     ------                                   1.2/7.5 MB 3.7 MB/s eta 0:00:02\n",
      "     -------                                  1.4/7.5 MB 3.7 MB/s eta 0:00:02\n",
      "     --------                                 1.5/7.5 MB 3.7 MB/s eta 0:00:02\n",
      "     ---------                                1.7/7.5 MB 3.7 MB/s eta 0:00:02\n",
      "     ---------                                1.9/7.5 MB 3.7 MB/s eta 0:00:02\n",
      "     ----------                               2.0/7.5 MB 3.7 MB/s eta 0:00:02\n",
      "     -----------                              2.2/7.5 MB 3.7 MB/s eta 0:00:02\n",
      "     ------------                             2.4/7.5 MB 3.7 MB/s eta 0:00:02\n",
      "     -------------                            2.6/7.5 MB 3.7 MB/s eta 0:00:02\n",
      "     --------------                           2.7/7.5 MB 3.7 MB/s eta 0:00:02\n",
      "     ---------------                          2.9/7.5 MB 3.7 MB/s eta 0:00:02\n",
      "     ----------------                         3.1/7.5 MB 3.7 MB/s eta 0:00:02\n",
      "     -----------------                        3.2/7.5 MB 3.7 MB/s eta 0:00:02\n",
      "     ------------------                       3.4/7.5 MB 3.7 MB/s eta 0:00:02\n",
      "     -------------------                      3.6/7.5 MB 3.7 MB/s eta 0:00:02\n",
      "     --------------------                     3.8/7.5 MB 3.7 MB/s eta 0:00:02\n",
      "     --------------------                     3.9/7.5 MB 3.7 MB/s eta 0:00:01\n",
      "     ---------------------                    4.1/7.5 MB 3.7 MB/s eta 0:00:01\n",
      "     ----------------------                   4.3/7.5 MB 3.7 MB/s eta 0:00:01\n",
      "     -----------------------                  4.4/7.5 MB 3.7 MB/s eta 0:00:01\n",
      "     ------------------------                 4.6/7.5 MB 3.7 MB/s eta 0:00:01\n",
      "     -------------------------                4.8/7.5 MB 3.7 MB/s eta 0:00:01\n",
      "     --------------------------               5.0/7.5 MB 3.7 MB/s eta 0:00:01\n",
      "     ---------------------------              5.2/7.5 MB 3.7 MB/s eta 0:00:01\n",
      "     ----------------------------             5.3/7.5 MB 3.7 MB/s eta 0:00:01\n",
      "     -----------------------------            5.5/7.5 MB 3.7 MB/s eta 0:00:01\n",
      "     ------------------------------           5.7/7.5 MB 3.7 MB/s eta 0:00:01\n",
      "     -------------------------------          5.8/7.5 MB 3.7 MB/s eta 0:00:01\n",
      "     -------------------------------          6.0/7.5 MB 3.7 MB/s eta 0:00:01\n",
      "     --------------------------------         6.2/7.5 MB 3.7 MB/s eta 0:00:01\n",
      "     ---------------------------------        6.4/7.5 MB 3.7 MB/s eta 0:00:01\n",
      "     ----------------------------------       6.5/7.5 MB 3.7 MB/s eta 0:00:01\n",
      "     -----------------------------------      6.7/7.5 MB 3.7 MB/s eta 0:00:01\n",
      "     ------------------------------------     6.9/7.5 MB 3.7 MB/s eta 0:00:01\n",
      "     -------------------------------------    7.1/7.5 MB 3.7 MB/s eta 0:00:01\n",
      "     --------------------------------------   7.2/7.5 MB 3.7 MB/s eta 0:00:01\n",
      "     ---------------------------------------  7.4/7.5 MB 3.7 MB/s eta 0:00:01\n",
      "     ---------------------------------------  7.5/7.5 MB 3.7 MB/s eta 0:00:01\n",
      "     ---------------------------------------- 7.5/7.5 MB 3.7 MB/s eta 0:00:00\n",
      "Collecting contourpy>=1.0.1 (from matplotlib)\n",
      "  Downloading contourpy-1.1.0-cp311-cp311-win_amd64.whl (470 kB)\n",
      "                                              0.0/470.9 kB ? eta -:--:--\n",
      "     --------------                         174.1/470.9 kB 3.5 MB/s eta 0:00:01\n",
      "     ----------------------------           358.4/470.9 kB 3.7 MB/s eta 0:00:01\n",
      "     -------------------------------------- 470.9/470.9 kB 3.3 MB/s eta 0:00:00\n",
      "Collecting cycler>=0.10 (from matplotlib)\n",
      "  Downloading cycler-0.11.0-py3-none-any.whl (6.4 kB)\n",
      "Collecting fonttools>=4.22.0 (from matplotlib)\n",
      "  Downloading fonttools-4.41.0-cp311-cp311-win_amd64.whl (2.0 MB)\n",
      "                                              0.0/2.0 MB ? eta -:--:--\n",
      "     ---                                      0.2/2.0 MB 3.5 MB/s eta 0:00:01\n",
      "     -------                                  0.4/2.0 MB 3.7 MB/s eta 0:00:01\n",
      "     ----------                               0.5/2.0 MB 3.6 MB/s eta 0:00:01\n",
      "     --------------                           0.7/2.0 MB 3.7 MB/s eta 0:00:01\n",
      "     -----------------                        0.9/2.0 MB 3.7 MB/s eta 0:00:01\n",
      "     ---------------------                    1.1/2.0 MB 3.7 MB/s eta 0:00:01\n",
      "     ------------------------                 1.2/2.0 MB 3.7 MB/s eta 0:00:01\n",
      "     ----------------------------             1.4/2.0 MB 3.7 MB/s eta 0:00:01\n",
      "     -------------------------------          1.5/2.0 MB 3.8 MB/s eta 0:00:01\n",
      "     -----------------------------------      1.7/2.0 MB 3.7 MB/s eta 0:00:01\n",
      "     ---------------------------------------  1.9/2.0 MB 3.7 MB/s eta 0:00:01\n",
      "     ---------------------------------------- 2.0/2.0 MB 3.6 MB/s eta 0:00:00\n",
      "Collecting kiwisolver>=1.0.1 (from matplotlib)\n",
      "  Downloading kiwisolver-1.4.4-cp311-cp311-win_amd64.whl (55 kB)\n",
      "                                              0.0/55.4 kB ? eta -:--:--\n",
      "     ---------------------------------------- 55.4/55.4 kB 2.8 MB/s eta 0:00:00\n",
      "Requirement already satisfied: numpy>=1.20 in c:\\users\\cutea\\appdata\\local\\programs\\python\\python311\\lib\\site-packages (from matplotlib) (1.25.0)\n",
      "Requirement already satisfied: packaging>=20.0 in c:\\users\\cutea\\appdata\\roaming\\python\\python311\\site-packages (from matplotlib) (23.1)\n",
      "Collecting pillow>=6.2.0 (from matplotlib)\n",
      "  Downloading Pillow-10.0.0-cp311-cp311-win_amd64.whl (2.5 MB)\n",
      "                                              0.0/2.5 MB ? eta -:--:--\n",
      "     --                                       0.1/2.5 MB 4.3 MB/s eta 0:00:01\n",
      "     -----                                    0.3/2.5 MB 4.1 MB/s eta 0:00:01\n",
      "     -------                                  0.5/2.5 MB 3.9 MB/s eta 0:00:01\n",
      "     ----------                               0.7/2.5 MB 3.8 MB/s eta 0:00:01\n",
      "     -------------                            0.8/2.5 MB 3.8 MB/s eta 0:00:01\n",
      "     ----------------                         1.0/2.5 MB 3.8 MB/s eta 0:00:01\n",
      "     ------------------                       1.2/2.5 MB 3.8 MB/s eta 0:00:01\n",
      "     ---------------------                    1.3/2.5 MB 3.7 MB/s eta 0:00:01\n",
      "     -----------------------                  1.5/2.5 MB 3.6 MB/s eta 0:00:01\n",
      "     -------------------------                1.6/2.5 MB 3.5 MB/s eta 0:00:01\n",
      "     ----------------------------             1.8/2.5 MB 3.5 MB/s eta 0:00:01\n",
      "     ------------------------------           1.9/2.5 MB 3.5 MB/s eta 0:00:01\n",
      "     ---------------------------------        2.1/2.5 MB 3.6 MB/s eta 0:00:01\n",
      "     ------------------------------------     2.3/2.5 MB 3.6 MB/s eta 0:00:01\n",
      "     ---------------------------------------  2.5/2.5 MB 3.6 MB/s eta 0:00:01\n",
      "     ---------------------------------------- 2.5/2.5 MB 3.5 MB/s eta 0:00:00\n",
      "Collecting pyparsing<3.1,>=2.3.1 (from matplotlib)\n",
      "  Downloading pyparsing-3.0.9-py3-none-any.whl (98 kB)\n",
      "                                              0.0/98.3 kB ? eta -:--:--\n",
      "     ---------------------------------------- 98.3/98.3 kB 2.8 MB/s eta 0:00:00\n",
      "Requirement already satisfied: python-dateutil>=2.7 in c:\\users\\cutea\\appdata\\roaming\\python\\python311\\site-packages (from matplotlib) (2.8.2)\n",
      "Requirement already satisfied: six>=1.5 in c:\\users\\cutea\\appdata\\roaming\\python\\python311\\site-packages (from python-dateutil>=2.7->matplotlib) (1.16.0)\n",
      "Installing collected packages: pyparsing, pillow, kiwisolver, fonttools, cycler, contourpy, matplotlib\n",
      "Successfully installed contourpy-1.1.0 cycler-0.11.0 fonttools-4.41.0 kiwisolver-1.4.4 matplotlib-3.7.2 pillow-10.0.0 pyparsing-3.0.9\n",
      "Note: you may need to restart the kernel to use updated packages.\n"
     ]
    },
    {
     "name": "stderr",
     "output_type": "stream",
     "text": [
      "  WARNING: The scripts fonttools.exe, pyftmerge.exe, pyftsubset.exe and ttx.exe are installed in 'c:\\Users\\cutea\\AppData\\Local\\Programs\\Python\\Python311\\Scripts' which is not on PATH.\n",
      "  Consider adding this directory to PATH or, if you prefer to suppress this warning, use --no-warn-script-location.\n"
     ]
    }
   ],
   "source": [
    "pip install matplotlib"
   ]
  },
  {
   "cell_type": "code",
   "execution_count": 2,
   "metadata": {},
   "outputs": [],
   "source": [
    "import matplotlib.pyplot as ptl "
   ]
  },
  {
   "cell_type": "code",
   "execution_count": 3,
   "metadata": {},
   "outputs": [
    {
     "data": {
      "image/png": "[encoded data removed]",
      "text/plain": [
       "<Figure size 640x480 with 1 Axes>"
      ]
     },
     "metadata": {},
     "output_type": "display_data"
    }
   ],
   "source": [
    "import numpy as np\n",
    "px=np.array([0,4,8,16])\n",
    "py=np.array([6,12,24,48])\n",
    "ptl.plot(px,py)\n",
    "ptl.show()"
   ]
  },
  {
   "cell_type": "code",
   "execution_count": null,
   "metadata": {},
   "outputs": [],
   "source": []
  }
 ],
 "metadata": {
  "kernelspec": {
   "display_name": "Python 3",
   "language": "python",
   "name": "python3"
  },
  "language_info": {
   "codemirror_mode": {
    "name": "ipython",
    "version": 3
   },
   "file_extension": ".py",
   "mimetype": "text/x-python",
   "name": "python",
   "nbconvert_exporter": "python",
   "pygments_lexer": "ipython3",
   "version": "3.11.4"
  },
  "orig_nbformat": 4
 },
 "nbformat": 4,
 "nbformat_minor": 2
}
